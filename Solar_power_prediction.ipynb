{
  "cells": [
    {
      "cell_type": "markdown",
      "metadata": {
        "id": "view-in-github",
        "colab_type": "text"
      },
      "source": [
        "<a href=\"https://colab.research.google.com/github/shadiAndishe/Solar_power_prediction/blob/main/Solar_power_prediction.ipynb\" target=\"_parent\"><img src=\"https://colab.research.google.com/assets/colab-badge.svg\" alt=\"Open In Colab\"/></a>"
      ]
    },
    {
      "cell_type": "code",
      "execution_count": null,
      "metadata": {
        "id": "-X5P0GO28UGM"
      },
      "outputs": [],
      "source": [
        "from google.colab import drive\n",
        "drive.mount('/content/drive')"
      ]
    },
    {
      "cell_type": "code",
      "execution_count": null,
      "metadata": {
        "id": "D9BdJUgD9ts5"
      },
      "outputs": [],
      "source": [
        "import pandas as pd\n",
        "import numpy as np\n",
        "import torch\n",
        "import torch.nn as nn\n",
        "import torch.optim as optim\n",
        "from sklearn.preprocessing import MinMaxScaler\n",
        "from torch.utils.data import Dataset, DataLoader"
      ]
    },
    {
      "cell_type": "code",
      "execution_count": null,
      "metadata": {
        "id": "fBSrdv3EDPZN"
      },
      "outputs": [],
      "source": [
        "# power generation datasets\n",
        "g1 = pd.read_csv(\"/content/drive/MyDrive/Solar_power_generation/Plant_1_Generation_Data.csv\")\n",
        "g1.head()\n",
        "g2 = pd.read_csv(\"/content/drive/MyDrive/Solar_power_generation/Plant_2_Generation_Data.csv\")\n",
        "g2.head()"
      ]
    },
    {
      "cell_type": "code",
      "execution_count": null,
      "metadata": {
        "id": "Kzyc10eBDYPA"
      },
      "outputs": [],
      "source": [
        "# sensor datasets\n",
        "s1 = pd.read_csv(\"/content/drive/MyDrive/Solar_power_generation/Plant_1_Weather_Sensor_Data.csv')\n",
        "s1.head()"
      ]
    },
    {
      "cell_type": "code",
      "execution_count": null,
      "metadata": {
        "colab": {
          "background_save": true,
          "base_uri": "https://localhost:8080/"
        },
        "id": "Jj_85HFD5LsY",
        "outputId": "313f7fbe-e6ae-418f-e10d-133716c2ad77"
      },
      "outputs": [
        {
          "name": "stderr",
          "output_type": "stream",
          "text": [
            "<ipython-input-18-827bf931bba4>:8: UserWarning: Parsing dates in %Y-%m-%d %H:%M:%S format when dayfirst=True was specified. Pass `dayfirst=False` or specify a format to silence this warning.\n",
            "  weather_data['DATE_TIME'] = pd.to_datetime(weather_data['DATE_TIME'], dayfirst=True)\n"
          ]
        },
        {
          "name": "stdout",
          "output_type": "stream",
          "text": [
            "Epoch 1, Loss: 0.0196\n",
            "Epoch 2, Loss: 0.0124\n",
            "Epoch 3, Loss: 0.0004\n",
            "Epoch 4, Loss: 0.0008\n",
            "Epoch 5, Loss: 0.0015\n",
            "Epoch 6, Loss: 0.0065\n",
            "Epoch 7, Loss: 0.0002\n",
            "Epoch 8, Loss: 0.0011\n",
            "Epoch 9, Loss: 0.0003\n",
            "Epoch 10, Loss: 0.0074\n",
            "Epoch 11, Loss: 0.0001\n",
            "Epoch 12, Loss: 0.0001\n",
            "Epoch 13, Loss: 0.0022\n",
            "Epoch 14, Loss: 0.0006\n",
            "Epoch 15, Loss: 0.0003\n",
            "Epoch 16, Loss: 0.0009\n",
            "Epoch 17, Loss: 0.0004\n",
            "Epoch 18, Loss: 0.0000\n",
            "Epoch 19, Loss: 0.0001\n",
            "Epoch 20, Loss: 0.0000\n",
            "Epoch 21, Loss: 0.0002\n",
            "Epoch 22, Loss: 0.0001\n",
            "Epoch 23, Loss: 0.0001\n",
            "Epoch 24, Loss: 0.0000\n",
            "Epoch 25, Loss: 0.0004\n",
            "Epoch 26, Loss: 0.0001\n",
            "Epoch 27, Loss: 0.0002\n",
            "Epoch 28, Loss: 0.0000\n",
            "Epoch 29, Loss: 0.0000\n",
            "Epoch 30, Loss: 0.0000\n",
            "Epoch 31, Loss: 0.0000\n",
            "Epoch 32, Loss: 0.0000\n",
            "Epoch 33, Loss: 0.0000\n",
            "Epoch 34, Loss: 0.0001\n",
            "Epoch 35, Loss: 0.0000\n",
            "Epoch 36, Loss: 0.0000\n",
            "Epoch 37, Loss: 0.0001\n",
            "Epoch 38, Loss: 0.0000\n",
            "Epoch 39, Loss: 0.0001\n",
            "Epoch 40, Loss: 0.0000\n",
            "Epoch 41, Loss: 0.0000\n",
            "Epoch 42, Loss: 0.0039\n",
            "Epoch 43, Loss: 0.0000\n",
            "Epoch 44, Loss: 0.0001\n",
            "Epoch 45, Loss: 0.0000\n",
            "Epoch 46, Loss: 0.0000\n",
            "Epoch 47, Loss: 0.0007\n",
            "Epoch 48, Loss: 0.0000\n",
            "Epoch 49, Loss: 0.0001\n",
            "Epoch 50, Loss: 0.0000\n"
          ]
        },
        {
          "data": {
            "image/png": "[encoded data removed]",
            "text/plain": [
              "<Figure size 640x480 with 1 Axes>"
            ]
          },
          "metadata": {},
          "output_type": "display_data"
        }
      ],
      "source": [
        "# Load the data\n",
        "gen_data = pd.read_csv('/content/drive/MyDrive/Solar_power_generation/Plant_1_Generation_Data.csv')\n",
        "weather_data = pd.read_csv('/content/drive/MyDrive/Solar_power_generation/Plant_1_Weather_Sensor_Data.csv')\n",
        "\n",
        "\n",
        "# Convert timestamp to datetime with correct format\n",
        "gen_data['DATE_TIME'] = pd.to_datetime(gen_data['DATE_TIME'], dayfirst=True)\n",
        "weather_data['DATE_TIME'] = pd.to_datetime(weather_data['DATE_TIME'], dayfirst=True)\n",
        "\n",
        "# Merge datasets on timestamp\n",
        "merged_data = pd.merge(gen_data, weather_data, on=['DATE_TIME', 'PLANT_ID'], how='inner')\n",
        "\n",
        "# Select relevant features\n",
        "features = ['AMBIENT_TEMPERATURE', 'MODULE_TEMPERATURE', 'IRRADIATION', 'TOTAL_YIELD']\n",
        "target = 'DC_POWER'\n",
        "\n",
        "# Normalize features with MinMaxScaler and target with StandardScaler\n",
        "feature_scaler = MinMaxScaler()\n",
        "target_scaler = StandardScaler()\n",
        "\n",
        "merged_data[features] = feature_scaler.fit_transform(merged_data[features])\n",
        "merged_data[[target]] = target_scaler.fit_transform(merged_data[[target]])\n",
        "\n",
        "# Prepare sequences for LSTM\n",
        "def create_sequences(data, target_col_index, seq_length):\n",
        "    sequences = []\n",
        "    labels = []\n",
        "    for i in range(len(data) - seq_length):\n",
        "        sequences.append(data[i:i+seq_length])\n",
        "        labels.append(data[i+seq_length, target_col_index])\n",
        "    return np.array(sequences), np.array(labels)\n",
        "\n",
        "seq_length = 24\n",
        "target_index = merged_data.columns.get_loc(target)\n",
        "X, y = create_sequences(merged_data[features].values, target_index, seq_length)\n",
        "\n",
        "# Split data\n",
        "train_size = int(0.8 * len(X))\n",
        "X_train, X_test = X[:train_size], X[train_size:]\n",
        "y_train, y_test = y[:train_size], y[train_size:]\n",
        "\n",
        "# Convert to tensors\n",
        "X_train, y_train = torch.tensor(X_train, dtype=torch.float32), torch.tensor(y_train, dtype=torch.float32)\n",
        "X_test, y_test = torch.tensor(X_test, dtype=torch.float32), torch.tensor(y_test, dtype=torch.float32)\n",
        "\n",
        "# Create DataLoader\n",
        "class SolarDataset(Dataset):\n",
        "    def __init__(self, X, y):\n",
        "        self.X = X\n",
        "        self.y = y\n",
        "    def __len__(self):\n",
        "        return len(self.X)\n",
        "    def __getitem__(self, idx):\n",
        "        return self.X[idx], self.y[idx]\n",
        "\n",
        "train_loader = DataLoader(SolarDataset(X_train, y_train), batch_size=32, shuffle=True)\n",
        "test_loader = DataLoader(SolarDataset(X_test, y_test), batch_size=32, shuffle=False)\n",
        "\n",
        "# Define LSTM model\n",
        "class LSTMPredictor(nn.Module):\n",
        "    def __init__(self, input_size, hidden_size, num_layers, output_size):\n",
        "        super(LSTMPredictor, self).__init__()\n",
        "        self.lstm = nn.LSTM(input_size, hidden_size, num_layers, batch_first=True)\n",
        "        self.fc = nn.Linear(hidden_size, output_size)\n",
        "    def forward(self, x):\n",
        "        lstm_out, _ = self.lstm(x)\n",
        "        return self.fc(lstm_out[:, -1, :])\n",
        "\n",
        "# Initialize model with increased complexity\n",
        "model = LSTMPredictor(input_size=len(features), hidden_size=128, num_layers=3, output_size=1)\n",
        "criterion = nn.MSELoss()\n",
        "optimizer = optim.Adam(model.parameters(), lr=0.0003)  # Reduced learning rate\n",
        "\n",
        "# Train model with more epochs\n",
        "epochs = 50\n",
        "for epoch in range(epochs):\n",
        "    model.train()\n",
        "    for X_batch, y_batch in train_loader:\n",
        "        optimizer.zero_grad()\n",
        "        y_pred = model(X_batch).squeeze()\n",
        "        loss = criterion(y_pred, y_batch)\n",
        "        loss.backward()\n",
        "        optimizer.step()\n",
        "    print(f'Epoch {epoch+1}, Loss: {loss.item():.4f}')\n",
        "\n",
        "# Evaluate model\n",
        "model.eval()\n",
        "y_preds = []\n",
        "y_actuals = []\n",
        "with torch.no_grad():\n",
        "    for X_batch, y_batch in test_loader:\n",
        "        y_preds.extend(model(X_batch).squeeze().numpy())\n",
        "        y_actuals.extend(y_batch.numpy())\n",
        "\n",
        "# Convert back to original scale\n",
        "y_preds = target_scaler.inverse_transform(np.array(y_preds).reshape(-1, 1))\n",
        "y_actuals = target_scaler.inverse_transform(np.array(y_actuals).reshape(-1, 1))\n",
        "\n",
        "# Visualization\n",
        "import matplotlib.pyplot as plt\n",
        "plt.plot(y_actuals, label='Actual DC Power')\n",
        "plt.plot(y_preds, label='Predicted DC Power')\n",
        "plt.legend()\n",
        "plt.show()\n"
      ]
    },
    {
      "cell_type": "code",
      "execution_count": null,
      "metadata": {
        "id": "pV5StN_h5hqH"
      },
      "outputs": [],
      "source": []
    }
  ],
  "metadata": {
    "colab": {
      "provenance": [],
      "authorship_tag": "ABX9TyOrp2CHdmcaSzHBv8Mwybkh",
      "include_colab_link": true
    },
    "kernelspec": {
      "display_name": "Python 3",
      "name": "python3"
    },
    "language_info": {
      "name": "python"
    }
  },
  "nbformat": 4,
  "nbformat_minor": 0
}